{
 "cells": [
  {
   "cell_type": "code",
   "execution_count": 15,
   "id": "1b3c7fb4-7f48-4d60-88ec-a13f213b2091",
   "metadata": {},
   "outputs": [
    {
     "name": "stdout",
     "output_type": "stream",
     "text": [
      "103.4\n",
      "99\n"
     ]
    }
   ],
   "source": [
    "#\n",
    "data: list = [2, 5, 67, -1, -78, 100, 98, -1000, 103.4]\n",
    "def get_max(datas: list)-> int | float:\n",
    "    max: int | float = datas[0]\n",
    "    for data in datas:\n",
    "        if max < data:\n",
    "            max = data\n",
    "    return max\n",
    "\n",
    "print(get_max(data))\n",
    "\n",
    "print(get_max(range(100)))"
   ]
  }
 ],
 "metadata": {
  "kernelspec": {
   "display_name": "Python 3 (ipykernel)",
   "language": "python",
   "name": "python3"
  },
  "language_info": {
   "codemirror_mode": {
    "name": "ipython",
    "version": 3
   },
   "file_extension": ".py",
   "mimetype": "text/x-python",
   "name": "python",
   "nbconvert_exporter": "python",
   "pygments_lexer": "ipython3",
   "version": "3.11.2"
  }
 },
 "nbformat": 4,
 "nbformat_minor": 5
}
