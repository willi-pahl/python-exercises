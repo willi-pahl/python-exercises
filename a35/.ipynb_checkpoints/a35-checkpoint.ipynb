{
 "cells": [
  {
   "cell_type": "code",
   "execution_count": 1,
   "id": "8b6504e4-06b8-46c8-b139-3edc6e40ddd5",
   "metadata": {},
   "outputs": [
    {
     "data": {
      "text/plain": [
       "'\\nSchreiben Sie eine Python-Funktion, die mithilfe der Turtle-Bibliothek ein gleichmäßiges Raster erzeugt. Dabei sollen über\\nParameter folgende Dinge variierbar sein: \\n\\ndie linke obere Ecke des Rasters,\\nder Abstand zwischen je zwei benachbarten Linien \\nsowie die Anzahl der Zeilen und Spalten (Anzahl Zeilen = Anzahl Spalten). \\nVerwenden Sie zur Generierung der einzelnen Linien for-Anweisungen (eine für die Horizontale, eine für die Vertikale).\\nTipp: schreiben Sie als Erstes eine Hilfsfunktion, die eine Linie zwischen zwei Punkten, jeweils gegeben durch eine x- und\\neine y-Koordinate zeichnet.\\n'"
      ]
     },
     "execution_count": 1,
     "metadata": {},
     "output_type": "execute_result"
    }
   ],
   "source": [
    "\"\"\"\n",
    "Schreiben Sie eine Python-Funktion, die mithilfe der Turtle-Bibliothek ein gleichmäßiges Raster erzeugt. Dabei sollen über\n",
    "Parameter folgende Dinge variierbar sein: \n",
    "\n",
    "die linke obere Ecke des Rasters,\n",
    "der Abstand zwischen je zwei benachbarten Linien \n",
    "sowie die Anzahl der Zeilen und Spalten (Anzahl Zeilen = Anzahl Spalten). \n",
    "Verwenden Sie zur Generierung der einzelnen Linien for-Anweisungen (eine für die Horizontale, eine für die Vertikale).\n",
    "Tipp: schreiben Sie als Erstes eine Hilfsfunktion, die eine Linie zwischen zwei Punkten, jeweils gegeben durch eine x- und\n",
    "eine y-Koordinate zeichnet.\n",
    "\"\"\""
   ]
  },
  {
   "cell_type": "code",
   "execution_count": 1,
   "id": "0b7d6b21-2598-47d6-b878-d912d6253ec5",
   "metadata": {},
   "outputs": [],
   "source": [
    "import turtle\n",
    "\n",
    "\n",
    "trtl = turtle.Turtle()\n",
    "\n",
    "# Start coorinates.\n",
    "top_left_corner_x: float = -200.0\n",
    "top_left_corner_y: float = 200.0\n",
    "\n",
    "# Distance between lines and columns.\n",
    "distance_between_lines: int = 20\n",
    "\n",
    "# Numbers of clolumns.\n",
    "number_of_columns: int = 20\n",
    "# Number of lines.\n",
    "number_of_lines: int = 25\n",
    "\n",
    "\n",
    "# Color of axis.\n",
    "#trtl.color(\"green\")\n",
    "\n",
    "# Draw speed.\n",
    "trtl.speed(10)\n",
    "\n",
    "\n",
    "def draw_new(x_start: float, y_start: float, x_end: float, y_end: float):\n",
    "    \"\"\"\n",
    "    Draw a line between tow points.\n",
    "\n",
    "    Args:\n",
    "        x_start (float): _description_\n",
    "        y_start (float): _description_\n",
    "        x_end (float): _description_\n",
    "        y_end (float): _description_\n",
    "    \"\"\"\n",
    "    trtl.penup()\n",
    "    trtl.goto(x_start, y_start)\n",
    "    trtl.pendown()\n",
    "    trtl.goto(x_end, y_end)\n",
    "    trtl.penup()\n",
    "\n",
    "# Draw lines.\n",
    "x_start = top_left_corner_x\n",
    "y_start = top_left_corner_y\n",
    "for i in range(number_of_lines + 1):\n",
    "    draw_new(\n",
    "        x_start=x_start,\n",
    "        x_end=x_start + distance_between_lines * number_of_columns,\n",
    "        y_start=y_start,\n",
    "        y_end=y_start,\n",
    "    )\n",
    "    y_start -= distance_between_lines\n",
    "\n",
    "# Drwa columns.\n",
    "x_start = top_left_corner_x\n",
    "y_start = top_left_corner_y\n",
    "for i in range(number_of_columns + 1):\n",
    "    draw_new(\n",
    "        x_start=x_start,\n",
    "        x_end=x_start,\n",
    "        y_start=y_start,\n",
    "        y_end=y_start - distance_between_lines * number_of_lines,\n",
    "    )\n",
    "    x_start += distance_between_lines\n",
    "\n",
    "# hide the turtle\n",
    "trtl.hideturtle()\n",
    "\n",
    "# Wait of user close.\n",
    "turtle.done()\n"
   ]
  },
  {
   "cell_type": "code",
   "execution_count": null,
   "id": "cec18f50-7d79-460b-9ab3-ee65e8b01623",
   "metadata": {},
   "outputs": [],
   "source": [
    "\"\"\"\n",
    "Aus irgent einem Grund muss man nach einem Lauf einen Kernelrestart machen. Sollte so ein runder Pfeil\n",
    "im Jupyterlab oben sein.\n",
    "Die Python Datei habe ich nur zum Testen, da habe ich nicht die Probleme mit dem Restart.\n",
    "\"\"\""
   ]
  }
 ],
 "metadata": {
  "kernelspec": {
   "display_name": "Python 3 (ipykernel)",
   "language": "python",
   "name": "python3"
  },
  "language_info": {
   "codemirror_mode": {
    "name": "ipython",
    "version": 3
   },
   "file_extension": ".py",
   "mimetype": "text/x-python",
   "name": "python",
   "nbconvert_exporter": "python",
   "pygments_lexer": "ipython3",
   "version": "3.11.2"
  }
 },
 "nbformat": 4,
 "nbformat_minor": 5
}
