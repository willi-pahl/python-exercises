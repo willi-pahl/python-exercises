{
 "cells": [
  {
   "cell_type": "code",
   "execution_count": 1,
   "id": "3c149380-111f-413a-9176-b29cc03f67a4",
   "metadata": {},
   "outputs": [],
   "source": [
    "# Include pandas for csv files.\n",
    "import pandas as pd"
   ]
  },
  {
   "cell_type": "code",
   "execution_count": 2,
   "id": "66f0bd06-799f-4bfd-851c-0dbaf619adf1",
   "metadata": {},
   "outputs": [
    {
     "name": "stdout",
     "output_type": "stream",
     "text": [
      "2.675\n",
      "2.325\n"
     ]
    }
   ],
   "source": [
    "def get_average(file_name: str)-> float:\n",
    "    \"\"\"\n",
    "    Calculate the average of the grades.\n",
    "\n",
    "    args:\n",
    "        file_name: (str) File to read.\n",
    "\n",
    "    return Average.\n",
    "    \"\"\"\n",
    "    df = pd.read_csv(file_name, header=None)\n",
    "    return df[3].mean()\n",
    "\n",
    "print(get_average(\"Notenliste.txt\"))\n",
    "print(get_average(\"Notenliste_Informatik.txt\"))"
   ]
  },
  {
   "cell_type": "code",
   "execution_count": 4,
   "id": "df54de56-1386-4a7b-9ab0-62f0e154d762",
   "metadata": {},
   "outputs": [
    {
     "name": "stdout",
     "output_type": "stream",
     "text": [
      "None\n",
      "None\n"
     ]
    }
   ],
   "source": [
    "def get_anonymos(input_file: str, output_file: str) -> None:\n",
    "    \"\"\"\n",
    "    Outputs the grade list as an anonymized list.\n",
    "\n",
    "    args:\n",
    "        input_file: (str) Name of input file.\n",
    "        output_file (str) Name of output file.\n",
    "    \"\"\"\n",
    "    # File has no header line at first line.\n",
    "    df = pd.read_csv(input_file, header=None)\n",
    "    # The first line index start with 1.\n",
    "    df.index = range(1, len(df) + 1)\n",
    "    # Conv to string and add empty chars.\n",
    "    df[4] = \"  \" + df[3].astype(str)\n",
    "    # gt only the last column for output.\n",
    "    grades = df.iloc[:, -1:]\n",
    "    grades.to_csv(output_file, header=None, sep=\":\")\n",
    "\n",
    "print(get_anonymos(input_file=\"Notenliste.txt\", output_file=\"nl_anonymus_test.txt\"))\n",
    "print(get_anonymos(input_file=\"Notenliste_Informatik.txt\", output_file=\"nl_anonymus.txt\"))"
   ]
  },
  {
   "cell_type": "code",
   "execution_count": null,
   "id": "cd899455-ab61-4d70-9d50-dc6d4f9dcf56",
   "metadata": {},
   "outputs": [],
   "source": []
  }
 ],
 "metadata": {
  "kernelspec": {
   "display_name": "Python 3 (ipykernel)",
   "language": "python",
   "name": "python3"
  },
  "language_info": {
   "codemirror_mode": {
    "name": "ipython",
    "version": 3
   },
   "file_extension": ".py",
   "mimetype": "text/x-python",
   "name": "python",
   "nbconvert_exporter": "python",
   "pygments_lexer": "ipython3",
   "version": "3.11.2"
  }
 },
 "nbformat": 4,
 "nbformat_minor": 5
}
