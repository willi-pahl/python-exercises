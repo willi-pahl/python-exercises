{
 "cells": [
  {
   "cell_type": "code",
   "execution_count": 1,
   "id": "74fb119b-f510-4fa3-b327-a0d7e29771e7",
   "metadata": {},
   "outputs": [],
   "source": [
    "import csv"
   ]
  },
  {
   "cell_type": "code",
   "execution_count": 32,
   "id": "bfb1ca0a-0b49-4001-9df0-f71ccad7439c",
   "metadata": {},
   "outputs": [],
   "source": [
    "def get_average(file_name: str)-> float:\n",
    "    with open(file_name, newline='') as csvfile:\n",
    "        csv_reader = csv.reader(csvfile, delimiter=',')\n",
    "        average: float = 0.0\n",
    "        line_count = 0\n",
    "        for line in csv_reader:\n",
    "            average += float(str(line[3].strip()))\n",
    "            line_count += 1\n",
    "        return average/line_count"
   ]
  },
  {
   "cell_type": "code",
   "execution_count": 33,
   "id": "fa6847dc-452c-476c-b921-b01f264ae03d",
   "metadata": {},
   "outputs": [
    {
     "name": "stdout",
     "output_type": "stream",
     "text": [
      "2.675\n",
      "2.325\n"
     ]
    }
   ],
   "source": [
    "print(get_average(\"Notenliste.txt\"))\n",
    "print(get_average(\"Notenliste_Informatik.txt\"))"
   ]
  },
  {
   "cell_type": "code",
   "execution_count": 52,
   "id": "c7b14fc5-a9df-4590-a45a-da38d81a5be5",
   "metadata": {},
   "outputs": [
    {
     "name": "stdout",
     "output_type": "stream",
     "text": [
      "['1: 2.3\\n', '2: 1.7\\n', '3: 3.0\\n', '4: 3.7\\n']\n",
      "None\n",
      "['1: 1.7\\n', '2: 1.3\\n', '3: 2.3\\n', '4: 5.0\\n', '5: 1.3\\n', '6: 1.0\\n', '7: 1.0\\n', '8: 5.0\\n']\n",
      "None\n"
     ]
    }
   ],
   "source": [
    "def get_anonymos(input_file: str, output_file: str) -> None:\n",
    "    \"\"\"\n",
    "    Outputs the grade list as an anonymized list.\n",
    "\n",
    "    args:\n",
    "        input_file: (str) Name of input file.\n",
    "        output_file (str) Name of output file.\n",
    "    \"\"\"\n",
    "    new_file_content: list = []\n",
    "    with open(input_file, newline='') as csvfile:\n",
    "        csv_reader = csv.reader(csvfile, delimiter=',')\n",
    "        line_number = 1\n",
    "        for line in csv_reader:\n",
    "            new_file_content.append(f\"{line_number}:{line[3]}\\n\")\n",
    "            line_number += 1\n",
    "\n",
    "    with open(output_file, 'a') as out_file:\n",
    "        for line in new_file_content:\n",
    "            out_file.write(line)\n",
    "\n",
    "print(get_anonymos(input_file=\"Notenliste.txt\", output_file=\"nl_anonymus_test_2.txt\"))\n",
    "print(get_anonymos(input_file=\"Notenliste_Informatik.txt\", output_file=\"nl_anonymus_2.txt\"))"
   ]
  },
  {
   "cell_type": "code",
   "execution_count": null,
   "id": "b9440a22-2946-4a2b-b5da-8dd06d4c2062",
   "metadata": {},
   "outputs": [],
   "source": []
  },
  {
   "cell_type": "code",
   "execution_count": null,
   "id": "6f14e292-0a50-40c4-935a-fc49855b4bed",
   "metadata": {},
   "outputs": [],
   "source": []
  }
 ],
 "metadata": {
  "kernelspec": {
   "display_name": "Python 3 (ipykernel)",
   "language": "python",
   "name": "python3"
  },
  "language_info": {
   "codemirror_mode": {
    "name": "ipython",
    "version": 3
   },
   "file_extension": ".py",
   "mimetype": "text/x-python",
   "name": "python",
   "nbconvert_exporter": "python",
   "pygments_lexer": "ipython3",
   "version": "3.11.2"
  }
 },
 "nbformat": 4,
 "nbformat_minor": 5
}
